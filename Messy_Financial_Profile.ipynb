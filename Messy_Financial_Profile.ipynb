{
 "cells": [
  {
   "cell_type": "code",
   "execution_count": 1,
   "metadata": {},
   "outputs": [],
   "source": [
    "import pandas as pd\n",
    "import numpy as np\n",
    "import datetime"
   ]
  },
  {
   "cell_type": "markdown",
   "metadata": {},
   "source": [
    "## Data Cleaning and Merging"
   ]
  },
  {
   "cell_type": "markdown",
   "metadata": {},
   "source": [
    "## First Dataset"
   ]
  },
  {
   "cell_type": "code",
   "execution_count": 2,
   "metadata": {},
   "outputs": [
    {
     "data": {
      "text/html": [
       "<div>\n",
       "<style scoped>\n",
       "    .dataframe tbody tr th:only-of-type {\n",
       "        vertical-align: middle;\n",
       "    }\n",
       "\n",
       "    .dataframe tbody tr th {\n",
       "        vertical-align: top;\n",
       "    }\n",
       "\n",
       "    .dataframe thead th {\n",
       "        text-align: right;\n",
       "    }\n",
       "</style>\n",
       "<table border=\"1\" class=\"dataframe\">\n",
       "  <thead>\n",
       "    <tr style=\"text-align: right;\">\n",
       "      <th></th>\n",
       "      <th>Customer_ID</th>\n",
       "      <th>Full_Name</th>\n",
       "      <th>Age</th>\n",
       "      <th>Gender</th>\n",
       "      <th>Email_Address</th>\n",
       "      <th>Phone_Number</th>\n",
       "      <th>Account_Type</th>\n",
       "      <th>Account_Open_Date</th>\n",
       "      <th>Credit_Score</th>\n",
       "      <th>Income_Level</th>\n",
       "    </tr>\n",
       "  </thead>\n",
       "  <tbody>\n",
       "    <tr>\n",
       "      <th>0</th>\n",
       "      <td>CUST23670</td>\n",
       "      <td>Kelly Porter</td>\n",
       "      <td>NaN</td>\n",
       "      <td>NaN</td>\n",
       "      <td>victorlindsey@hotmail.com</td>\n",
       "      <td>673.251.6093</td>\n",
       "      <td>Checking</td>\n",
       "      <td>2025-06-16</td>\n",
       "      <td>NaN</td>\n",
       "      <td>€145194</td>\n",
       "    </tr>\n",
       "    <tr>\n",
       "      <th>1</th>\n",
       "      <td>CUST23390</td>\n",
       "      <td>Christopher Ross</td>\n",
       "      <td>NaN</td>\n",
       "      <td>Non-Binary</td>\n",
       "      <td>margaret28@carr.com</td>\n",
       "      <td>8060575725</td>\n",
       "      <td>Savings</td>\n",
       "      <td>2025-06-09</td>\n",
       "      <td>NaN</td>\n",
       "      <td>£147861</td>\n",
       "    </tr>\n",
       "    <tr>\n",
       "      <th>2</th>\n",
       "      <td>CUST11019</td>\n",
       "      <td>Candace Suarez</td>\n",
       "      <td>NaN</td>\n",
       "      <td>NaN</td>\n",
       "      <td>robersonmeghan@hotmail.com</td>\n",
       "      <td>001-847-214-9089</td>\n",
       "      <td>Personal</td>\n",
       "      <td>2025-06-24</td>\n",
       "      <td>757.38</td>\n",
       "      <td>$116545</td>\n",
       "    </tr>\n",
       "    <tr>\n",
       "      <th>3</th>\n",
       "      <td>CUST23960</td>\n",
       "      <td>Sarah Smith</td>\n",
       "      <td>59.0</td>\n",
       "      <td>Female</td>\n",
       "      <td>ybradley@yahoo.com</td>\n",
       "      <td>2738768714</td>\n",
       "      <td>Business</td>\n",
       "      <td>2025-06-19</td>\n",
       "      <td>372.20</td>\n",
       "      <td>$78377</td>\n",
       "    </tr>\n",
       "    <tr>\n",
       "      <th>4</th>\n",
       "      <td>CUST12396</td>\n",
       "      <td>Mr. Jonathan Woodard Jr.</td>\n",
       "      <td>NaN</td>\n",
       "      <td>Male</td>\n",
       "      <td>ebishop@morales.com</td>\n",
       "      <td>(215)221-7890</td>\n",
       "      <td>Savings</td>\n",
       "      <td>2025-06-12</td>\n",
       "      <td>309.69</td>\n",
       "      <td>€119083</td>\n",
       "    </tr>\n",
       "  </tbody>\n",
       "</table>\n",
       "</div>"
      ],
      "text/plain": [
       "  Customer_ID                     Full_Name   Age       Gender   \\\n",
       "0    CUST23670                  Kelly Porter   NaN          NaN   \n",
       "1    CUST23390              Christopher Ross   NaN   Non-Binary   \n",
       "2    CUST11019                Candace Suarez   NaN          NaN   \n",
       "3    CUST23960                   Sarah Smith  59.0       Female   \n",
       "4    CUST12396    Mr. Jonathan Woodard Jr.     NaN        Male    \n",
       "\n",
       "               Email_Address      Phone_Number  Account_Type   \\\n",
       "0   victorlindsey@hotmail.com      673.251.6093      Checking   \n",
       "1         margaret28@carr.com        8060575725      Savings    \n",
       "2  robersonmeghan@hotmail.com  001-847-214-9089      Personal   \n",
       "3          ybradley@yahoo.com        2738768714     Business    \n",
       "4         ebishop@morales.com     (215)221-7890      Savings    \n",
       "\n",
       "  Account_Open_Date   Credit_Score  Income_Level   \n",
       "0         2025-06-16            NaN       €145194  \n",
       "1         2025-06-09            NaN       £147861  \n",
       "2         2025-06-24         757.38       $116545  \n",
       "3         2025-06-19         372.20        $78377  \n",
       "4         2025-06-12         309.69       €119083  "
      ]
     },
     "execution_count": 2,
     "metadata": {},
     "output_type": "execute_result"
    }
   ],
   "source": [
    "data1 = pd.read_csv('Dataset_A_Customer_Profiles_Messy.csv')\n",
    "data1.head()"
   ]
  },
  {
   "cell_type": "code",
   "execution_count": 4,
   "metadata": {},
   "outputs": [],
   "source": [
    "## columns, whitespaces, null/na, check each column data, check and remove duplicates where necessary, check for special characters, check for inconsistencies"
   ]
  },
  {
   "cell_type": "code",
   "execution_count": 5,
   "metadata": {},
   "outputs": [
    {
     "data": {
      "text/plain": [
       "Index(['Customer_ID ', 'Full_Name ', 'Age ', 'Gender ', 'Email_Address ',\n",
       "       'Phone_Number ', 'Account_Type ', 'Account_Open_Date ', 'Credit_Score ',\n",
       "       'Income_Level '],\n",
       "      dtype='object')"
      ]
     },
     "execution_count": 5,
     "metadata": {},
     "output_type": "execute_result"
    }
   ],
   "source": [
    "data1.columns"
   ]
  },
  {
   "cell_type": "code",
   "execution_count": 6,
   "metadata": {},
   "outputs": [
    {
     "name": "stdout",
     "output_type": "stream",
     "text": [
      "['Customer_ID', 'Full_Name', 'Age', 'Gender', 'Email_Address', 'Phone_Number', 'Account_Type', 'Account_Open_Date', 'Credit_Score', 'Income_Level']\n"
     ]
    }
   ],
   "source": [
    "def del_ytspaces():\n",
    "    data1.columns = data1.columns.str.strip()\n",
    "\n",
    "del_ytspaces()\n",
    "\n",
    "print(data1.columns.tolist())"
   ]
  },
  {
   "cell_type": "code",
   "execution_count": 7,
   "metadata": {},
   "outputs": [
    {
     "data": {
      "text/plain": [
       "Index(['Customer_ID', 'Full_Name', 'Age', 'Gender', 'Email_Address',\n",
       "       'Phone_Number', 'Account_Type', 'Account_Open_Date', 'Credit_Score',\n",
       "       'Income_Level'],\n",
       "      dtype='object')"
      ]
     },
     "execution_count": 7,
     "metadata": {},
     "output_type": "execute_result"
    }
   ],
   "source": [
    "data1.columns"
   ]
  },
  {
   "cell_type": "code",
   "execution_count": 8,
   "metadata": {},
   "outputs": [
    {
     "data": {
      "text/plain": [
       "'Savings '"
      ]
     },
     "execution_count": 8,
     "metadata": {},
     "output_type": "execute_result"
    }
   ],
   "source": [
    "data1.iloc[15, 6]"
   ]
  },
  {
   "cell_type": "code",
   "execution_count": 9,
   "metadata": {},
   "outputs": [
    {
     "name": "stdout",
     "output_type": "stream",
     "text": [
      "white spaces removed\n"
     ]
    }
   ],
   "source": [
    "def remove_ytspaces(df, column):\n",
    "    df[column] = df[column].str.strip()\n",
    "    return df\n",
    "\n",
    "remove_ytspaces(data1, 'Customer_ID')\n",
    "remove_ytspaces(data1, 'Full_Name')\n",
    "remove_ytspaces(data1, 'Gender')\n",
    "remove_ytspaces(data1, 'Email_Address')\n",
    "remove_ytspaces(data1, 'Phone_Number')\n",
    "remove_ytspaces(data1, 'Account_Type')\n",
    "remove_ytspaces(data1, 'Account_Open_Date')\n",
    "remove_ytspaces(data1, 'Income_Level')\n",
    "print('white spaces removed')"
   ]
  },
  {
   "cell_type": "code",
   "execution_count": 10,
   "metadata": {},
   "outputs": [
    {
     "data": {
      "text/plain": [
       "'Savings'"
      ]
     },
     "execution_count": 10,
     "metadata": {},
     "output_type": "execute_result"
    }
   ],
   "source": [
    "data1.iloc[15, 6]"
   ]
  },
  {
   "cell_type": "code",
   "execution_count": 11,
   "metadata": {},
   "outputs": [
    {
     "data": {
      "text/plain": [
       "300"
      ]
     },
     "execution_count": 11,
     "metadata": {},
     "output_type": "execute_result"
    }
   ],
   "source": [
    "data1['Customer_ID'].duplicated().sum()\n",
    "#data1['Email_Address'].duplicated().sum()"
   ]
  },
  {
   "cell_type": "code",
   "execution_count": 12,
   "metadata": {},
   "outputs": [
    {
     "data": {
      "text/html": [
       "<div>\n",
       "<style scoped>\n",
       "    .dataframe tbody tr th:only-of-type {\n",
       "        vertical-align: middle;\n",
       "    }\n",
       "\n",
       "    .dataframe tbody tr th {\n",
       "        vertical-align: top;\n",
       "    }\n",
       "\n",
       "    .dataframe thead th {\n",
       "        text-align: right;\n",
       "    }\n",
       "</style>\n",
       "<table border=\"1\" class=\"dataframe\">\n",
       "  <thead>\n",
       "    <tr style=\"text-align: right;\">\n",
       "      <th></th>\n",
       "      <th>Customer_ID</th>\n",
       "      <th>Full_Name</th>\n",
       "      <th>Age</th>\n",
       "      <th>Gender</th>\n",
       "      <th>Email_Address</th>\n",
       "      <th>Phone_Number</th>\n",
       "      <th>Account_Type</th>\n",
       "      <th>Account_Open_Date</th>\n",
       "      <th>Credit_Score</th>\n",
       "      <th>Income_Level</th>\n",
       "    </tr>\n",
       "  </thead>\n",
       "  <tbody>\n",
       "    <tr>\n",
       "      <th>35</th>\n",
       "      <td>CUST15492</td>\n",
       "      <td>Kelly Lopez</td>\n",
       "      <td>50.0</td>\n",
       "      <td>NaN</td>\n",
       "      <td>mwalker@yahoo.com</td>\n",
       "      <td>001-863-243-2542</td>\n",
       "      <td>NaN</td>\n",
       "      <td>2025-06-09</td>\n",
       "      <td>510.74</td>\n",
       "      <td>NaN</td>\n",
       "    </tr>\n",
       "    <tr>\n",
       "      <th>77</th>\n",
       "      <td>CUST17141</td>\n",
       "      <td>Richard Lopez</td>\n",
       "      <td>NaN</td>\n",
       "      <td>NaN</td>\n",
       "      <td>johnsonjulie@yahoo.com</td>\n",
       "      <td>9087929277</td>\n",
       "      <td>Checking</td>\n",
       "      <td>2025-06-09</td>\n",
       "      <td>599.69</td>\n",
       "      <td>$93351</td>\n",
       "    </tr>\n",
       "    <tr>\n",
       "      <th>99</th>\n",
       "      <td>CUST23851</td>\n",
       "      <td>John Campos</td>\n",
       "      <td>NaN</td>\n",
       "      <td>Female</td>\n",
       "      <td>brian24@barnett.info</td>\n",
       "      <td>982.591.1330</td>\n",
       "      <td>Savings</td>\n",
       "      <td>2025-06-27</td>\n",
       "      <td>NaN</td>\n",
       "      <td>£138476</td>\n",
       "    </tr>\n",
       "    <tr>\n",
       "      <th>108</th>\n",
       "      <td>CUST24201</td>\n",
       "      <td>Brian Clements</td>\n",
       "      <td>59.0</td>\n",
       "      <td>Male</td>\n",
       "      <td>henrypowers@walker-strong.com</td>\n",
       "      <td>085.794.7224x5978</td>\n",
       "      <td>NaN</td>\n",
       "      <td>2025-06-13</td>\n",
       "      <td>NaN</td>\n",
       "      <td>NaN</td>\n",
       "    </tr>\n",
       "    <tr>\n",
       "      <th>138</th>\n",
       "      <td>CUST22589</td>\n",
       "      <td>Tracy Williams</td>\n",
       "      <td>NaN</td>\n",
       "      <td>Female</td>\n",
       "      <td>lewiscarrie@johnson-kim.com</td>\n",
       "      <td>(437)758-9612</td>\n",
       "      <td>Personal</td>\n",
       "      <td>2025-06-24</td>\n",
       "      <td>705.27</td>\n",
       "      <td>$138885</td>\n",
       "    </tr>\n",
       "  </tbody>\n",
       "</table>\n",
       "</div>"
      ],
      "text/plain": [
       "    Customer_ID       Full_Name   Age  Gender                  Email_Address  \\\n",
       "35    CUST15492     Kelly Lopez  50.0     NaN              mwalker@yahoo.com   \n",
       "77    CUST17141   Richard Lopez   NaN     NaN         johnsonjulie@yahoo.com   \n",
       "99    CUST23851     John Campos   NaN  Female           brian24@barnett.info   \n",
       "108   CUST24201  Brian Clements  59.0    Male  henrypowers@walker-strong.com   \n",
       "138   CUST22589  Tracy Williams   NaN  Female    lewiscarrie@johnson-kim.com   \n",
       "\n",
       "          Phone_Number Account_Type Account_Open_Date  Credit_Score  \\\n",
       "35    001-863-243-2542          NaN        2025-06-09        510.74   \n",
       "77          9087929277     Checking        2025-06-09        599.69   \n",
       "99        982.591.1330      Savings        2025-06-27           NaN   \n",
       "108  085.794.7224x5978          NaN        2025-06-13           NaN   \n",
       "138      (437)758-9612     Personal        2025-06-24        705.27   \n",
       "\n",
       "    Income_Level  \n",
       "35           NaN  \n",
       "77        $93351  \n",
       "99       £138476  \n",
       "108          NaN  \n",
       "138      $138885  "
      ]
     },
     "execution_count": 12,
     "metadata": {},
     "output_type": "execute_result"
    }
   ],
   "source": [
    "data1[data1['Customer_ID'].duplicated(keep=False)].head()"
   ]
  },
  {
   "cell_type": "code",
   "execution_count": 13,
   "metadata": {},
   "outputs": [
    {
     "data": {
      "text/html": [
       "<div>\n",
       "<style scoped>\n",
       "    .dataframe tbody tr th:only-of-type {\n",
       "        vertical-align: middle;\n",
       "    }\n",
       "\n",
       "    .dataframe tbody tr th {\n",
       "        vertical-align: top;\n",
       "    }\n",
       "\n",
       "    .dataframe thead th {\n",
       "        text-align: right;\n",
       "    }\n",
       "</style>\n",
       "<table border=\"1\" class=\"dataframe\">\n",
       "  <thead>\n",
       "    <tr style=\"text-align: right;\">\n",
       "      <th></th>\n",
       "      <th>Customer_ID</th>\n",
       "      <th>Full_Name</th>\n",
       "      <th>Age</th>\n",
       "      <th>Gender</th>\n",
       "      <th>Email_Address</th>\n",
       "      <th>Phone_Number</th>\n",
       "      <th>Account_Type</th>\n",
       "      <th>Account_Open_Date</th>\n",
       "      <th>Credit_Score</th>\n",
       "      <th>Income_Level</th>\n",
       "    </tr>\n",
       "  </thead>\n",
       "  <tbody>\n",
       "    <tr>\n",
       "      <th>35</th>\n",
       "      <td>CUST15492</td>\n",
       "      <td>Kelly Lopez</td>\n",
       "      <td>50.0</td>\n",
       "      <td>NaN</td>\n",
       "      <td>mwalker@yahoo.com</td>\n",
       "      <td>001-863-243-2542</td>\n",
       "      <td>NaN</td>\n",
       "      <td>2025-06-09</td>\n",
       "      <td>510.74</td>\n",
       "      <td>NaN</td>\n",
       "    </tr>\n",
       "    <tr>\n",
       "      <th>6419</th>\n",
       "      <td>CUST15492</td>\n",
       "      <td>Kelly Lopez</td>\n",
       "      <td>50.0</td>\n",
       "      <td>NaN</td>\n",
       "      <td>mwalker@yahoo.com</td>\n",
       "      <td>001-863-243-2542</td>\n",
       "      <td>NaN</td>\n",
       "      <td>2025-06-09</td>\n",
       "      <td>510.74</td>\n",
       "      <td>NaN</td>\n",
       "    </tr>\n",
       "  </tbody>\n",
       "</table>\n",
       "</div>"
      ],
      "text/plain": [
       "     Customer_ID    Full_Name   Age Gender      Email_Address  \\\n",
       "35     CUST15492  Kelly Lopez  50.0    NaN  mwalker@yahoo.com   \n",
       "6419   CUST15492  Kelly Lopez  50.0    NaN  mwalker@yahoo.com   \n",
       "\n",
       "          Phone_Number Account_Type Account_Open_Date  Credit_Score  \\\n",
       "35    001-863-243-2542          NaN        2025-06-09        510.74   \n",
       "6419  001-863-243-2542          NaN        2025-06-09        510.74   \n",
       "\n",
       "     Income_Level  \n",
       "35            NaN  \n",
       "6419          NaN  "
      ]
     },
     "execution_count": 13,
     "metadata": {},
     "output_type": "execute_result"
    }
   ],
   "source": [
    "data1[data1['Customer_ID'] == 'CUST15492']"
   ]
  },
  {
   "cell_type": "code",
   "execution_count": 14,
   "metadata": {},
   "outputs": [],
   "source": [
    "## customer ID has duplicate across rows but email does not "
   ]
  },
  {
   "cell_type": "code",
   "execution_count": 15,
   "metadata": {},
   "outputs": [],
   "source": [
    "data1 = data1.drop_duplicates(subset='Customer_ID', keep='first')"
   ]
  },
  {
   "cell_type": "code",
   "execution_count": 16,
   "metadata": {},
   "outputs": [
    {
     "data": {
      "text/plain": [
       "0"
      ]
     },
     "execution_count": 16,
     "metadata": {},
     "output_type": "execute_result"
    }
   ],
   "source": [
    "data1['Customer_ID'].duplicated().sum()"
   ]
  },
  {
   "cell_type": "code",
   "execution_count": 17,
   "metadata": {},
   "outputs": [
    {
     "data": {
      "text/html": [
       "<div>\n",
       "<style scoped>\n",
       "    .dataframe tbody tr th:only-of-type {\n",
       "        vertical-align: middle;\n",
       "    }\n",
       "\n",
       "    .dataframe tbody tr th {\n",
       "        vertical-align: top;\n",
       "    }\n",
       "\n",
       "    .dataframe thead th {\n",
       "        text-align: right;\n",
       "    }\n",
       "</style>\n",
       "<table border=\"1\" class=\"dataframe\">\n",
       "  <thead>\n",
       "    <tr style=\"text-align: right;\">\n",
       "      <th></th>\n",
       "      <th>Customer_ID</th>\n",
       "      <th>Full_Name</th>\n",
       "      <th>Age</th>\n",
       "      <th>Gender</th>\n",
       "      <th>Email_Address</th>\n",
       "      <th>Phone_Number</th>\n",
       "      <th>Account_Type</th>\n",
       "      <th>Account_Open_Date</th>\n",
       "      <th>Credit_Score</th>\n",
       "      <th>Income_Level</th>\n",
       "    </tr>\n",
       "  </thead>\n",
       "  <tbody>\n",
       "    <tr>\n",
       "      <th>9545</th>\n",
       "      <td>CUST26122</td>\n",
       "      <td>Michael Scott</td>\n",
       "      <td>26.0</td>\n",
       "      <td>Non-Binary</td>\n",
       "      <td>wilsonmegan@gmail.com</td>\n",
       "      <td>131-532-2737x6426</td>\n",
       "      <td>Business</td>\n",
       "      <td>2025-06-09</td>\n",
       "      <td>722.86</td>\n",
       "      <td>£93746</td>\n",
       "    </tr>\n",
       "    <tr>\n",
       "      <th>8511</th>\n",
       "      <td>CUST17316</td>\n",
       "      <td>Christina Kim</td>\n",
       "      <td>NaN</td>\n",
       "      <td>Female</td>\n",
       "      <td>gwest@yahoo.com</td>\n",
       "      <td>001-497-636-1752x5123</td>\n",
       "      <td>NaN</td>\n",
       "      <td>2025-06-24</td>\n",
       "      <td>NaN</td>\n",
       "      <td>€42997</td>\n",
       "    </tr>\n",
       "    <tr>\n",
       "      <th>9188</th>\n",
       "      <td>CUST21981</td>\n",
       "      <td>Amy Franco</td>\n",
       "      <td>51.0</td>\n",
       "      <td>Female</td>\n",
       "      <td>ashleyhall@gmail.com</td>\n",
       "      <td>+1-891-238-5386x799</td>\n",
       "      <td>Savings</td>\n",
       "      <td>2025-06-25</td>\n",
       "      <td>NaN</td>\n",
       "      <td>£40013</td>\n",
       "    </tr>\n",
       "    <tr>\n",
       "      <th>9968</th>\n",
       "      <td>CUST10474</td>\n",
       "      <td>Jeffrey Roberts</td>\n",
       "      <td>NaN</td>\n",
       "      <td>NaN</td>\n",
       "      <td>NaN</td>\n",
       "      <td>001-899-613-2385x40963</td>\n",
       "      <td>Personal</td>\n",
       "      <td>2025-06-29</td>\n",
       "      <td>NaN</td>\n",
       "      <td>$49789</td>\n",
       "    </tr>\n",
       "  </tbody>\n",
       "</table>\n",
       "</div>"
      ],
      "text/plain": [
       "     Customer_ID        Full_Name   Age      Gender          Email_Address  \\\n",
       "9545   CUST26122    Michael Scott  26.0  Non-Binary  wilsonmegan@gmail.com   \n",
       "8511   CUST17316    Christina Kim   NaN      Female        gwest@yahoo.com   \n",
       "9188   CUST21981       Amy Franco  51.0      Female   ashleyhall@gmail.com   \n",
       "9968   CUST10474  Jeffrey Roberts   NaN         NaN                    NaN   \n",
       "\n",
       "                Phone_Number Account_Type Account_Open_Date  Credit_Score  \\\n",
       "9545       131-532-2737x6426     Business        2025-06-09        722.86   \n",
       "8511   001-497-636-1752x5123          NaN        2025-06-24           NaN   \n",
       "9188     +1-891-238-5386x799      Savings        2025-06-25           NaN   \n",
       "9968  001-899-613-2385x40963     Personal        2025-06-29           NaN   \n",
       "\n",
       "     Income_Level  \n",
       "9545       £93746  \n",
       "8511       €42997  \n",
       "9188       £40013  \n",
       "9968       $49789  "
      ]
     },
     "execution_count": 17,
     "metadata": {},
     "output_type": "execute_result"
    }
   ],
   "source": [
    "data1[data1['Email_Address'].duplicated(keep=False)].sample(4)"
   ]
  },
  {
   "cell_type": "code",
   "execution_count": 18,
   "metadata": {},
   "outputs": [
    {
     "data": {
      "text/html": [
       "<div>\n",
       "<style scoped>\n",
       "    .dataframe tbody tr th:only-of-type {\n",
       "        vertical-align: middle;\n",
       "    }\n",
       "\n",
       "    .dataframe tbody tr th {\n",
       "        vertical-align: top;\n",
       "    }\n",
       "\n",
       "    .dataframe thead th {\n",
       "        text-align: right;\n",
       "    }\n",
       "</style>\n",
       "<table border=\"1\" class=\"dataframe\">\n",
       "  <thead>\n",
       "    <tr style=\"text-align: right;\">\n",
       "      <th></th>\n",
       "      <th>Customer_ID</th>\n",
       "      <th>Full_Name</th>\n",
       "      <th>Age</th>\n",
       "      <th>Gender</th>\n",
       "      <th>Email_Address</th>\n",
       "      <th>Phone_Number</th>\n",
       "      <th>Account_Type</th>\n",
       "      <th>Account_Open_Date</th>\n",
       "      <th>Credit_Score</th>\n",
       "      <th>Income_Level</th>\n",
       "    </tr>\n",
       "  </thead>\n",
       "  <tbody>\n",
       "    <tr>\n",
       "      <th>9256</th>\n",
       "      <td>CUST18559</td>\n",
       "      <td>Steven Castro</td>\n",
       "      <td>42.0</td>\n",
       "      <td>Female</td>\n",
       "      <td>tanderson@hotmail.com</td>\n",
       "      <td>561-577-0265</td>\n",
       "      <td>Personal</td>\n",
       "      <td>2025-06-21</td>\n",
       "      <td>747.85</td>\n",
       "      <td>€97821</td>\n",
       "    </tr>\n",
       "    <tr>\n",
       "      <th>15266</th>\n",
       "      <td>CUST20349</td>\n",
       "      <td>Tamara Crane</td>\n",
       "      <td>NaN</td>\n",
       "      <td>Male</td>\n",
       "      <td>tanderson@hotmail.com</td>\n",
       "      <td>987.437.9388x1313</td>\n",
       "      <td>NaN</td>\n",
       "      <td>2025-06-14</td>\n",
       "      <td>NaN</td>\n",
       "      <td>$93719</td>\n",
       "    </tr>\n",
       "  </tbody>\n",
       "</table>\n",
       "</div>"
      ],
      "text/plain": [
       "      Customer_ID      Full_Name   Age  Gender          Email_Address  \\\n",
       "9256    CUST18559  Steven Castro  42.0  Female  tanderson@hotmail.com   \n",
       "15266   CUST20349   Tamara Crane   NaN    Male  tanderson@hotmail.com   \n",
       "\n",
       "            Phone_Number Account_Type Account_Open_Date  Credit_Score  \\\n",
       "9256        561-577-0265     Personal        2025-06-21        747.85   \n",
       "15266  987.437.9388x1313          NaN        2025-06-14           NaN   \n",
       "\n",
       "      Income_Level  \n",
       "9256        €97821  \n",
       "15266       $93719  "
      ]
     },
     "execution_count": 18,
     "metadata": {},
     "output_type": "execute_result"
    }
   ],
   "source": [
    "data1[data1['Email_Address'] == 'tanderson@hotmail.com']\n",
    "## Different customers have similar email address. could be a mistake when details were being entered"
   ]
  },
  {
   "cell_type": "code",
   "execution_count": 19,
   "metadata": {},
   "outputs": [
    {
     "name": "stdout",
     "output_type": "stream",
     "text": [
      "special characters removed from Income Level col\n"
     ]
    }
   ],
   "source": [
    "def replace_special_char(df, column):\n",
    "    df[column] = df[column].astype(str).str.replace(r'[^\\d.]', '', regex=True)\n",
    "    return df\n",
    "\n",
    "replace_special_char(data1, 'Income_Level')\n",
    "print('special characters removed from Income Level col')"
   ]
  },
  {
   "cell_type": "code",
   "execution_count": 20,
   "metadata": {},
   "outputs": [
    {
     "data": {
      "text/plain": [
       "Customer_ID             0\n",
       "Full_Name               0\n",
       "Age                  8609\n",
       "Gender               4213\n",
       "Email_Address         842\n",
       "Phone_Number            0\n",
       "Account_Type         3335\n",
       "Account_Open_Date       0\n",
       "Credit_Score         8566\n",
       "Income_Level            0\n",
       "dtype: int64"
      ]
     },
     "execution_count": 20,
     "metadata": {},
     "output_type": "execute_result"
    }
   ],
   "source": [
    "data1.isna().sum()"
   ]
  },
  {
   "cell_type": "code",
   "execution_count": 21,
   "metadata": {},
   "outputs": [
    {
     "data": {
      "text/plain": [
       "8566"
      ]
     },
     "execution_count": 21,
     "metadata": {},
     "output_type": "execute_result"
    }
   ],
   "source": [
    "data1['Gender'].isna().sum()\n",
    "data1['Email_Address'].isna().sum()\n",
    "data1['Account_Type'].isna().sum()\n",
    "data1['Credit_Score'].isna().sum()"
   ]
  },
  {
   "cell_type": "code",
   "execution_count": 22,
   "metadata": {},
   "outputs": [],
   "source": [
    "def fill_with_unknown(x):\n",
    "    if pd.isna(x):\n",
    "        return 'Unknown'\n",
    "    else:\n",
    "        return x\n",
    "\n",
    "data1['Gender'] = data1['Gender'].apply(fill_with_unknown)\n",
    "data1['Email_Address'] = data1['Email_Address'].apply(fill_with_unknown)\n",
    "data1['Account_Type'] = data1['Account_Type'].apply(fill_with_unknown)\n"
   ]
  },
  {
   "cell_type": "code",
   "execution_count": 23,
   "metadata": {},
   "outputs": [],
   "source": [
    "data1['Credit_Score'] = data1['Credit_Score'].fillna(0)"
   ]
  },
  {
   "cell_type": "code",
   "execution_count": 24,
   "metadata": {},
   "outputs": [
    {
     "data": {
      "text/plain": [
       "0"
      ]
     },
     "execution_count": 24,
     "metadata": {},
     "output_type": "execute_result"
    }
   ],
   "source": [
    "data1['Gender'].isna().sum()\n",
    "data1['Email_Address'].isna().sum()\n",
    "data1['Account_Type'].isna().sum()\n",
    "data1['Credit_Score'].isna().sum()"
   ]
  },
  {
   "cell_type": "code",
   "execution_count": 25,
   "metadata": {},
   "outputs": [
    {
     "data": {
      "text/plain": [
       "8609"
      ]
     },
     "execution_count": 25,
     "metadata": {},
     "output_type": "execute_result"
    }
   ],
   "source": [
    "data1['Age'].isna().sum()"
   ]
  },
  {
   "cell_type": "code",
   "execution_count": 26,
   "metadata": {},
   "outputs": [],
   "source": [
    "data1['Age'] = data1.groupby(['Gender', 'Account_Type'])['Age'].transform(lambda x: x.fillna(x.median()))"
   ]
  },
  {
   "cell_type": "code",
   "execution_count": 27,
   "metadata": {},
   "outputs": [
    {
     "data": {
      "text/plain": [
       "0"
      ]
     },
     "execution_count": 27,
     "metadata": {},
     "output_type": "execute_result"
    }
   ],
   "source": [
    "data1['Age'].isna().sum()"
   ]
  },
  {
   "cell_type": "code",
   "execution_count": 28,
   "metadata": {},
   "outputs": [
    {
     "data": {
      "text/plain": [
       "17295            440-232-5333\n",
       "17296      (286)395-7396x0611\n",
       "17297      980.907.8619x60786\n",
       "17298    001-123-677-4390x716\n",
       "17299     +1-920-206-8780x336\n",
       "Name: Phone_Number, dtype: object"
      ]
     },
     "execution_count": 28,
     "metadata": {},
     "output_type": "execute_result"
    }
   ],
   "source": [
    "data1.Phone_Number.tail()"
   ]
  },
  {
   "cell_type": "code",
   "execution_count": 29,
   "metadata": {},
   "outputs": [
    {
     "name": "stdout",
     "output_type": "stream",
     "text": [
      "Phone number cleaned\n"
     ]
    }
   ],
   "source": [
    "import re\n",
    "def clean_phone(clean):\n",
    "    clean = re.sub(r'\\D', '', clean)\n",
    "    \n",
    "    if len(clean) == 10:\n",
    "        return f'{clean[:3]} {clean[3:6]} {clean[6:]}'\n",
    "    elif len(clean) == 11:\n",
    "        return f'{clean[0]} {clean[1:4]} {clean[4:7]} {clean[7:]}'\n",
    "    elif len(clean) < 10 or len(clean) > 11:\n",
    "        return 'Unknown'\n",
    "    else:\n",
    "        clean\n",
    "    \n",
    "data1['Phone_Number'] = data1['Phone_Number'].apply(clean_phone)\n",
    "print('Phone number cleaned')"
   ]
  },
  {
   "cell_type": "code",
   "execution_count": 30,
   "metadata": {},
   "outputs": [
    {
     "data": {
      "text/html": [
       "<div>\n",
       "<style scoped>\n",
       "    .dataframe tbody tr th:only-of-type {\n",
       "        vertical-align: middle;\n",
       "    }\n",
       "\n",
       "    .dataframe tbody tr th {\n",
       "        vertical-align: top;\n",
       "    }\n",
       "\n",
       "    .dataframe thead th {\n",
       "        text-align: right;\n",
       "    }\n",
       "</style>\n",
       "<table border=\"1\" class=\"dataframe\">\n",
       "  <thead>\n",
       "    <tr style=\"text-align: right;\">\n",
       "      <th></th>\n",
       "      <th>Phone_Number</th>\n",
       "      <th>Gender</th>\n",
       "      <th>Account_Type</th>\n",
       "    </tr>\n",
       "  </thead>\n",
       "  <tbody>\n",
       "    <tr>\n",
       "      <th>12954</th>\n",
       "      <td>Unknown</td>\n",
       "      <td>Male</td>\n",
       "      <td>Personal</td>\n",
       "    </tr>\n",
       "    <tr>\n",
       "      <th>12169</th>\n",
       "      <td>Unknown</td>\n",
       "      <td>Male</td>\n",
       "      <td>Unknown</td>\n",
       "    </tr>\n",
       "    <tr>\n",
       "      <th>16936</th>\n",
       "      <td>402 464 5831</td>\n",
       "      <td>Unknown</td>\n",
       "      <td>Savings</td>\n",
       "    </tr>\n",
       "    <tr>\n",
       "      <th>1368</th>\n",
       "      <td>Unknown</td>\n",
       "      <td>Female</td>\n",
       "      <td>Personal</td>\n",
       "    </tr>\n",
       "    <tr>\n",
       "      <th>10658</th>\n",
       "      <td>Unknown</td>\n",
       "      <td>Unknown</td>\n",
       "      <td>Business</td>\n",
       "    </tr>\n",
       "    <tr>\n",
       "      <th>15586</th>\n",
       "      <td>Unknown</td>\n",
       "      <td>Unknown</td>\n",
       "      <td>Savings</td>\n",
       "    </tr>\n",
       "    <tr>\n",
       "      <th>2105</th>\n",
       "      <td>Unknown</td>\n",
       "      <td>Female</td>\n",
       "      <td>Savings</td>\n",
       "    </tr>\n",
       "    <tr>\n",
       "      <th>7508</th>\n",
       "      <td>Unknown</td>\n",
       "      <td>Male</td>\n",
       "      <td>Savings</td>\n",
       "    </tr>\n",
       "    <tr>\n",
       "      <th>529</th>\n",
       "      <td>Unknown</td>\n",
       "      <td>Female</td>\n",
       "      <td>Checking</td>\n",
       "    </tr>\n",
       "    <tr>\n",
       "      <th>7203</th>\n",
       "      <td>Unknown</td>\n",
       "      <td>Unknown</td>\n",
       "      <td>Savings</td>\n",
       "    </tr>\n",
       "  </tbody>\n",
       "</table>\n",
       "</div>"
      ],
      "text/plain": [
       "       Phone_Number   Gender Account_Type\n",
       "12954       Unknown     Male     Personal\n",
       "12169       Unknown     Male      Unknown\n",
       "16936  402 464 5831  Unknown      Savings\n",
       "1368        Unknown   Female     Personal\n",
       "10658       Unknown  Unknown     Business\n",
       "15586       Unknown  Unknown      Savings\n",
       "2105        Unknown   Female      Savings\n",
       "7508        Unknown     Male      Savings\n",
       "529         Unknown   Female     Checking\n",
       "7203        Unknown  Unknown      Savings"
      ]
     },
     "execution_count": 30,
     "metadata": {},
     "output_type": "execute_result"
    }
   ],
   "source": [
    "data1[['Phone_Number', 'Gender', 'Account_Type']].sample(10)"
   ]
  },
  {
   "cell_type": "code",
   "execution_count": 31,
   "metadata": {},
   "outputs": [
    {
     "data": {
      "text/html": [
       "<div>\n",
       "<style scoped>\n",
       "    .dataframe tbody tr th:only-of-type {\n",
       "        vertical-align: middle;\n",
       "    }\n",
       "\n",
       "    .dataframe tbody tr th {\n",
       "        vertical-align: top;\n",
       "    }\n",
       "\n",
       "    .dataframe thead th {\n",
       "        text-align: right;\n",
       "    }\n",
       "</style>\n",
       "<table border=\"1\" class=\"dataframe\">\n",
       "  <thead>\n",
       "    <tr style=\"text-align: right;\">\n",
       "      <th></th>\n",
       "      <th>Customer_ID</th>\n",
       "      <th>Full_Name</th>\n",
       "      <th>Age</th>\n",
       "      <th>Gender</th>\n",
       "      <th>Email_Address</th>\n",
       "      <th>Phone_Number</th>\n",
       "      <th>Account_Type</th>\n",
       "      <th>Account_Open_Date</th>\n",
       "      <th>Credit_Score</th>\n",
       "      <th>Income_Level</th>\n",
       "      <th>Income_Unknown</th>\n",
       "    </tr>\n",
       "  </thead>\n",
       "  <tbody>\n",
       "    <tr>\n",
       "      <th>13</th>\n",
       "      <td>CUST17931</td>\n",
       "      <td>Jason Contreras</td>\n",
       "      <td>46.0</td>\n",
       "      <td>Unknown</td>\n",
       "      <td>maria61@gmail.com</td>\n",
       "      <td>Unknown</td>\n",
       "      <td>Checking</td>\n",
       "      <td>2025-06-22</td>\n",
       "      <td>0.00</td>\n",
       "      <td>NaN</td>\n",
       "      <td>True</td>\n",
       "    </tr>\n",
       "    <tr>\n",
       "      <th>16</th>\n",
       "      <td>CUST15591</td>\n",
       "      <td>Casey Garcia</td>\n",
       "      <td>50.0</td>\n",
       "      <td>Female</td>\n",
       "      <td>elizabeth95@valencia.com</td>\n",
       "      <td>034 051 6676</td>\n",
       "      <td>Personal</td>\n",
       "      <td>2025-06-18</td>\n",
       "      <td>768.47</td>\n",
       "      <td>NaN</td>\n",
       "      <td>True</td>\n",
       "    </tr>\n",
       "    <tr>\n",
       "      <th>35</th>\n",
       "      <td>CUST15492</td>\n",
       "      <td>Kelly Lopez</td>\n",
       "      <td>50.0</td>\n",
       "      <td>Unknown</td>\n",
       "      <td>mwalker@yahoo.com</td>\n",
       "      <td>Unknown</td>\n",
       "      <td>Unknown</td>\n",
       "      <td>2025-06-09</td>\n",
       "      <td>510.74</td>\n",
       "      <td>NaN</td>\n",
       "      <td>True</td>\n",
       "    </tr>\n",
       "    <tr>\n",
       "      <th>51</th>\n",
       "      <td>CUST16761</td>\n",
       "      <td>Deborah Castro</td>\n",
       "      <td>37.0</td>\n",
       "      <td>Male</td>\n",
       "      <td>dominicking@hotmail.com</td>\n",
       "      <td>Unknown</td>\n",
       "      <td>Savings</td>\n",
       "      <td>2025-06-22</td>\n",
       "      <td>0.00</td>\n",
       "      <td>NaN</td>\n",
       "      <td>True</td>\n",
       "    </tr>\n",
       "    <tr>\n",
       "      <th>64</th>\n",
       "      <td>CUST21879</td>\n",
       "      <td>Michael Ponce</td>\n",
       "      <td>80.0</td>\n",
       "      <td>Non-Binary</td>\n",
       "      <td>matthew66@cabrera.biz</td>\n",
       "      <td>Unknown</td>\n",
       "      <td>Savings</td>\n",
       "      <td>2025-06-26</td>\n",
       "      <td>0.00</td>\n",
       "      <td>NaN</td>\n",
       "      <td>True</td>\n",
       "    </tr>\n",
       "    <tr>\n",
       "      <th>68</th>\n",
       "      <td>CUST19777</td>\n",
       "      <td>Christina Christian</td>\n",
       "      <td>46.0</td>\n",
       "      <td>Female</td>\n",
       "      <td>daniel65@gmail.com</td>\n",
       "      <td>802 450 6394</td>\n",
       "      <td>Business</td>\n",
       "      <td>2025-06-18</td>\n",
       "      <td>0.00</td>\n",
       "      <td>NaN</td>\n",
       "      <td>True</td>\n",
       "    </tr>\n",
       "    <tr>\n",
       "      <th>79</th>\n",
       "      <td>CUST24538</td>\n",
       "      <td>Jennifer Mccoy</td>\n",
       "      <td>53.0</td>\n",
       "      <td>Female</td>\n",
       "      <td>campbelljessica@dawson.info</td>\n",
       "      <td>Unknown</td>\n",
       "      <td>Checking</td>\n",
       "      <td>2025-06-18</td>\n",
       "      <td>0.00</td>\n",
       "      <td>NaN</td>\n",
       "      <td>True</td>\n",
       "    </tr>\n",
       "    <tr>\n",
       "      <th>81</th>\n",
       "      <td>CUST22431</td>\n",
       "      <td>Victoria Elliott</td>\n",
       "      <td>51.0</td>\n",
       "      <td>Unknown</td>\n",
       "      <td>Unknown</td>\n",
       "      <td>460 572 3450</td>\n",
       "      <td>Unknown</td>\n",
       "      <td>2025-06-08</td>\n",
       "      <td>0.00</td>\n",
       "      <td>NaN</td>\n",
       "      <td>True</td>\n",
       "    </tr>\n",
       "  </tbody>\n",
       "</table>\n",
       "</div>"
      ],
      "text/plain": [
       "   Customer_ID            Full_Name   Age      Gender  \\\n",
       "13   CUST17931      Jason Contreras  46.0     Unknown   \n",
       "16   CUST15591         Casey Garcia  50.0      Female   \n",
       "35   CUST15492          Kelly Lopez  50.0     Unknown   \n",
       "51   CUST16761       Deborah Castro  37.0        Male   \n",
       "64   CUST21879        Michael Ponce  80.0  Non-Binary   \n",
       "68   CUST19777  Christina Christian  46.0      Female   \n",
       "79   CUST24538       Jennifer Mccoy  53.0      Female   \n",
       "81   CUST22431     Victoria Elliott  51.0     Unknown   \n",
       "\n",
       "                  Email_Address  Phone_Number Account_Type Account_Open_Date  \\\n",
       "13            maria61@gmail.com       Unknown     Checking        2025-06-22   \n",
       "16     elizabeth95@valencia.com  034 051 6676     Personal        2025-06-18   \n",
       "35            mwalker@yahoo.com       Unknown      Unknown        2025-06-09   \n",
       "51      dominicking@hotmail.com       Unknown      Savings        2025-06-22   \n",
       "64        matthew66@cabrera.biz       Unknown      Savings        2025-06-26   \n",
       "68           daniel65@gmail.com  802 450 6394     Business        2025-06-18   \n",
       "79  campbelljessica@dawson.info       Unknown     Checking        2025-06-18   \n",
       "81                      Unknown  460 572 3450      Unknown        2025-06-08   \n",
       "\n",
       "    Credit_Score  Income_Level  Income_Unknown  \n",
       "13          0.00           NaN            True  \n",
       "16        768.47           NaN            True  \n",
       "35        510.74           NaN            True  \n",
       "51          0.00           NaN            True  \n",
       "64          0.00           NaN            True  \n",
       "68          0.00           NaN            True  \n",
       "79          0.00           NaN            True  \n",
       "81          0.00           NaN            True  "
      ]
     },
     "execution_count": 31,
     "metadata": {},
     "output_type": "execute_result"
    }
   ],
   "source": [
    "data1['Income_Level'] = pd.to_numeric(data1['Income_Level'])\n",
    "data1['Income_Unknown'] = data1['Income_Level'].isna()\n",
    "data1[data1['Income_Unknown'] == True].head(8)"
   ]
  },
  {
   "cell_type": "code",
   "execution_count": 32,
   "metadata": {},
   "outputs": [],
   "source": [
    "## Convert to Date\n",
    "data1['Account_Open_Date'] = pd.to_datetime(data1['Account_Open_Date'])"
   ]
  },
  {
   "cell_type": "markdown",
   "metadata": {},
   "source": [
    "## Second Dataset"
   ]
  },
  {
   "cell_type": "code",
   "execution_count": 33,
   "metadata": {},
   "outputs": [
    {
     "data": {
      "text/html": [
       "<div>\n",
       "<style scoped>\n",
       "    .dataframe tbody tr th:only-of-type {\n",
       "        vertical-align: middle;\n",
       "    }\n",
       "\n",
       "    .dataframe tbody tr th {\n",
       "        vertical-align: top;\n",
       "    }\n",
       "\n",
       "    .dataframe thead th {\n",
       "        text-align: right;\n",
       "    }\n",
       "</style>\n",
       "<table border=\"1\" class=\"dataframe\">\n",
       "  <thead>\n",
       "    <tr style=\"text-align: right;\">\n",
       "      <th></th>\n",
       "      <th>Customer_ID</th>\n",
       "      <th>Transaction_ID</th>\n",
       "      <th>Transaction_Date</th>\n",
       "      <th>Transaction_Amount</th>\n",
       "      <th>Merchant_Name</th>\n",
       "      <th>Transaction_Type</th>\n",
       "    </tr>\n",
       "  </thead>\n",
       "  <tbody>\n",
       "    <tr>\n",
       "      <th>0</th>\n",
       "      <td>CUST26964</td>\n",
       "      <td>TXN115359</td>\n",
       "      <td>2025-06-16</td>\n",
       "      <td>$987.19</td>\n",
       "      <td>Apple</td>\n",
       "      <td>Deposit</td>\n",
       "    </tr>\n",
       "    <tr>\n",
       "      <th>1</th>\n",
       "      <td>CUST19314</td>\n",
       "      <td>TXN133314</td>\n",
       "      <td>2025-06-18</td>\n",
       "      <td>269.23</td>\n",
       "      <td>NaN</td>\n",
       "      <td>Transfer</td>\n",
       "    </tr>\n",
       "    <tr>\n",
       "      <th>2</th>\n",
       "      <td>CUST23304</td>\n",
       "      <td>TXN129227</td>\n",
       "      <td>2025-06-09</td>\n",
       "      <td>€977.8</td>\n",
       "      <td>Walmart</td>\n",
       "      <td>Transfer</td>\n",
       "    </tr>\n",
       "    <tr>\n",
       "      <th>3</th>\n",
       "      <td>CUST18760</td>\n",
       "      <td>TXN126833</td>\n",
       "      <td>2025-06-12</td>\n",
       "      <td>668.71</td>\n",
       "      <td>Target</td>\n",
       "      <td>POS</td>\n",
       "    </tr>\n",
       "    <tr>\n",
       "      <th>4</th>\n",
       "      <td>CUST18399</td>\n",
       "      <td>TXN106774</td>\n",
       "      <td>2025-06-23</td>\n",
       "      <td>334.51</td>\n",
       "      <td>NaN</td>\n",
       "      <td>Online</td>\n",
       "    </tr>\n",
       "  </tbody>\n",
       "</table>\n",
       "</div>"
      ],
      "text/plain": [
       "  Customer_ID  Transaction_ID  Transaction_Date  Transaction_Amount   \\\n",
       "0    CUST26964       TXN115359        2025-06-16             $987.19   \n",
       "1    CUST19314       TXN133314        2025-06-18              269.23   \n",
       "2    CUST23304       TXN129227        2025-06-09              €977.8   \n",
       "3    CUST18760       TXN126833        2025-06-12              668.71   \n",
       "4    CUST18399       TXN106774        2025-06-23              334.51   \n",
       "\n",
       "  Merchant_Name  Transaction_Type   \n",
       "0          Apple           Deposit  \n",
       "1            NaN          Transfer  \n",
       "2      Walmart            Transfer  \n",
       "3        Target               POS   \n",
       "4            NaN            Online  "
      ]
     },
     "execution_count": 33,
     "metadata": {},
     "output_type": "execute_result"
    }
   ],
   "source": [
    "data2 = pd.read_csv('Dataset_B_Financial_Transactions_Messy.csv')\n",
    "data2.head()"
   ]
  },
  {
   "cell_type": "code",
   "execution_count": 34,
   "metadata": {},
   "outputs": [
    {
     "name": "stdout",
     "output_type": "stream",
     "text": [
      "<class 'pandas.core.frame.DataFrame'>\n",
      "RangeIndex: 34500 entries, 0 to 34499\n",
      "Data columns (total 6 columns):\n",
      " #   Column               Non-Null Count  Dtype \n",
      "---  ------               --------------  ----- \n",
      " 0   Customer_ID          34500 non-null  object\n",
      " 1   Transaction_ID       34500 non-null  object\n",
      " 2   Transaction_Date     34500 non-null  object\n",
      " 3   Transaction_Amount   34500 non-null  object\n",
      " 4   Merchant_Name        28731 non-null  object\n",
      " 5   Transaction_Type     34500 non-null  object\n",
      "dtypes: object(6)\n",
      "memory usage: 1.6+ MB\n"
     ]
    }
   ],
   "source": [
    "data2.info()"
   ]
  },
  {
   "cell_type": "code",
   "execution_count": 35,
   "metadata": {},
   "outputs": [],
   "source": [
    "## columns, whitespaces, null/na, check each column data, check and remove duplicates where necessary, check for special characters, check for inconsistencies"
   ]
  },
  {
   "cell_type": "code",
   "execution_count": 36,
   "metadata": {},
   "outputs": [
    {
     "data": {
      "text/plain": [
       "Index(['Customer_ID ', 'Transaction_ID ', 'Transaction_Date ',\n",
       "       'Transaction_Amount ', 'Merchant_Name ', 'Transaction_Type '],\n",
       "      dtype='object')"
      ]
     },
     "execution_count": 36,
     "metadata": {},
     "output_type": "execute_result"
    }
   ],
   "source": [
    "data2.columns"
   ]
  },
  {
   "cell_type": "code",
   "execution_count": 37,
   "metadata": {},
   "outputs": [
    {
     "name": "stdout",
     "output_type": "stream",
     "text": [
      "['Customer_ID', 'Transaction_ID', 'Transaction_Date', 'Transaction_Amount', 'Merchant_Name', 'Transaction_Type']\n"
     ]
    }
   ],
   "source": [
    "def del_ytspaces():\n",
    "    data2.columns = data2.columns.str.strip()\n",
    "\n",
    "del_ytspaces()\n",
    "print(data2.columns.tolist())"
   ]
  },
  {
   "cell_type": "code",
   "execution_count": 38,
   "metadata": {},
   "outputs": [
    {
     "data": {
      "text/plain": [
       "Index(['Customer_ID', 'Transaction_ID', 'Transaction_Date',\n",
       "       'Transaction_Amount', 'Merchant_Name', 'Transaction_Type'],\n",
       "      dtype='object')"
      ]
     },
     "execution_count": 38,
     "metadata": {},
     "output_type": "execute_result"
    }
   ],
   "source": [
    "data2.columns"
   ]
  },
  {
   "cell_type": "code",
   "execution_count": 39,
   "metadata": {},
   "outputs": [
    {
     "data": {
      "text/html": [
       "<div>\n",
       "<style scoped>\n",
       "    .dataframe tbody tr th:only-of-type {\n",
       "        vertical-align: middle;\n",
       "    }\n",
       "\n",
       "    .dataframe tbody tr th {\n",
       "        vertical-align: top;\n",
       "    }\n",
       "\n",
       "    .dataframe thead th {\n",
       "        text-align: right;\n",
       "    }\n",
       "</style>\n",
       "<table border=\"1\" class=\"dataframe\">\n",
       "  <thead>\n",
       "    <tr style=\"text-align: right;\">\n",
       "      <th></th>\n",
       "      <th>Customer_ID</th>\n",
       "      <th>Transaction_ID</th>\n",
       "      <th>Transaction_Date</th>\n",
       "      <th>Transaction_Amount</th>\n",
       "      <th>Merchant_Name</th>\n",
       "      <th>Transaction_Type</th>\n",
       "    </tr>\n",
       "  </thead>\n",
       "  <tbody>\n",
       "    <tr>\n",
       "      <th>0</th>\n",
       "      <td>CUST26964</td>\n",
       "      <td>TXN115359</td>\n",
       "      <td>2025-06-16</td>\n",
       "      <td>$987.19</td>\n",
       "      <td>Apple</td>\n",
       "      <td>Deposit</td>\n",
       "    </tr>\n",
       "    <tr>\n",
       "      <th>1</th>\n",
       "      <td>CUST19314</td>\n",
       "      <td>TXN133314</td>\n",
       "      <td>2025-06-18</td>\n",
       "      <td>269.23</td>\n",
       "      <td>NaN</td>\n",
       "      <td>Transfer</td>\n",
       "    </tr>\n",
       "    <tr>\n",
       "      <th>2</th>\n",
       "      <td>CUST23304</td>\n",
       "      <td>TXN129227</td>\n",
       "      <td>2025-06-09</td>\n",
       "      <td>€977.8</td>\n",
       "      <td>Walmart</td>\n",
       "      <td>Transfer</td>\n",
       "    </tr>\n",
       "    <tr>\n",
       "      <th>3</th>\n",
       "      <td>CUST18760</td>\n",
       "      <td>TXN126833</td>\n",
       "      <td>2025-06-12</td>\n",
       "      <td>668.71</td>\n",
       "      <td>Target</td>\n",
       "      <td>POS</td>\n",
       "    </tr>\n",
       "    <tr>\n",
       "      <th>4</th>\n",
       "      <td>CUST18399</td>\n",
       "      <td>TXN106774</td>\n",
       "      <td>2025-06-23</td>\n",
       "      <td>334.51</td>\n",
       "      <td>NaN</td>\n",
       "      <td>Online</td>\n",
       "    </tr>\n",
       "  </tbody>\n",
       "</table>\n",
       "</div>"
      ],
      "text/plain": [
       "  Customer_ID Transaction_ID Transaction_Date Transaction_Amount  \\\n",
       "0   CUST26964      TXN115359       2025-06-16            $987.19   \n",
       "1   CUST19314      TXN133314       2025-06-18             269.23   \n",
       "2   CUST23304      TXN129227       2025-06-09             €977.8   \n",
       "3   CUST18760      TXN126833       2025-06-12             668.71   \n",
       "4   CUST18399      TXN106774       2025-06-23             334.51   \n",
       "\n",
       "  Merchant_Name Transaction_Type  \n",
       "0         Apple          Deposit  \n",
       "1           NaN         Transfer  \n",
       "2     Walmart           Transfer  \n",
       "3       Target              POS   \n",
       "4           NaN           Online  "
      ]
     },
     "execution_count": 39,
     "metadata": {},
     "output_type": "execute_result"
    }
   ],
   "source": [
    "data2.head()"
   ]
  },
  {
   "cell_type": "code",
   "execution_count": null,
   "metadata": {},
   "outputs": [],
   "source": []
  },
  {
   "cell_type": "code",
   "execution_count": 40,
   "metadata": {},
   "outputs": [
    {
     "data": {
      "text/plain": [
       "'POS '"
      ]
     },
     "execution_count": 40,
     "metadata": {},
     "output_type": "execute_result"
    }
   ],
   "source": [
    "data2.iloc[6,5]"
   ]
  },
  {
   "cell_type": "code",
   "execution_count": 41,
   "metadata": {},
   "outputs": [],
   "source": [
    "### strip Merchant_Name, Transaction_Type"
   ]
  },
  {
   "cell_type": "code",
   "execution_count": 42,
   "metadata": {},
   "outputs": [
    {
     "name": "stdout",
     "output_type": "stream",
     "text": [
      "Whitespaces Removed\n"
     ]
    }
   ],
   "source": [
    "def remove_ytspaces(df, column):\n",
    "    df[column] = df[column].str.strip()\n",
    "    return df\n",
    "    \n",
    "remove_ytspaces(data2, 'Customer_ID')\n",
    "remove_ytspaces(data2, 'Transaction_ID')\n",
    "remove_ytspaces(data2, 'Transaction_Date')\n",
    "remove_ytspaces(data2, 'Transaction_Amount')\n",
    "remove_ytspaces(data2, 'Merchant_Name')\n",
    "remove_ytspaces(data2, 'Transaction_Type')\n",
    "\n",
    "print('Whitespaces Removed')"
   ]
  },
  {
   "cell_type": "code",
   "execution_count": 43,
   "metadata": {},
   "outputs": [
    {
     "data": {
      "text/plain": [
       "'POS'"
      ]
     },
     "execution_count": 43,
     "metadata": {},
     "output_type": "execute_result"
    }
   ],
   "source": [
    "data2.iloc[6,5]"
   ]
  },
  {
   "cell_type": "code",
   "execution_count": 44,
   "metadata": {},
   "outputs": [
    {
     "data": {
      "text/plain": [
       "Customer_ID              0\n",
       "Transaction_ID           0\n",
       "Transaction_Date         0\n",
       "Transaction_Amount       0\n",
       "Merchant_Name         5769\n",
       "Transaction_Type         0\n",
       "dtype: int64"
      ]
     },
     "execution_count": 44,
     "metadata": {},
     "output_type": "execute_result"
    }
   ],
   "source": [
    "data2.isna().sum()"
   ]
  },
  {
   "cell_type": "code",
   "execution_count": 45,
   "metadata": {},
   "outputs": [
    {
     "data": {
      "text/plain": [
       "array(['Apple', nan, 'Walmart', 'Target', 'Amazon', 'Netflix'],\n",
       "      dtype=object)"
      ]
     },
     "execution_count": 45,
     "metadata": {},
     "output_type": "execute_result"
    }
   ],
   "source": [
    "data2['Merchant_Name'].unique()"
   ]
  },
  {
   "cell_type": "code",
   "execution_count": 46,
   "metadata": {},
   "outputs": [],
   "source": [
    "def replace_nan(x):\n",
    "    if pd.isna(x):\n",
    "        return 'Unknown'\n",
    "    else:\n",
    "        return x\n",
    "\n",
    "data2['Merchant_Name'] = data2['Merchant_Name'].apply(replace_nan)"
   ]
  },
  {
   "cell_type": "code",
   "execution_count": 47,
   "metadata": {},
   "outputs": [
    {
     "data": {
      "text/plain": [
       "array(['Apple', 'Unknown', 'Walmart', 'Target', 'Amazon', 'Netflix'],\n",
       "      dtype=object)"
      ]
     },
     "execution_count": 47,
     "metadata": {},
     "output_type": "execute_result"
    }
   ],
   "source": [
    "data2['Merchant_Name'].unique()"
   ]
  },
  {
   "cell_type": "code",
   "execution_count": 48,
   "metadata": {},
   "outputs": [
    {
     "name": "stdout",
     "output_type": "stream",
     "text": [
      "Special Characters removed from Transaction Amount col\n"
     ]
    }
   ],
   "source": [
    "def remove_special_charc(df, column):\n",
    "    df[column] = df[column].astype(str).str.replace(r'[^\\d.]', '', regex=True)\n",
    "    return df\n",
    "\n",
    "remove_special_charc(data2, 'Transaction_Amount')\n",
    "print('Special Characters removed from Transaction Amount col')"
   ]
  },
  {
   "cell_type": "code",
   "execution_count": 49,
   "metadata": {},
   "outputs": [],
   "source": [
    "## check for duplicates"
   ]
  },
  {
   "cell_type": "code",
   "execution_count": 50,
   "metadata": {},
   "outputs": [
    {
     "data": {
      "text/plain": [
       "500"
      ]
     },
     "execution_count": 50,
     "metadata": {},
     "output_type": "execute_result"
    }
   ],
   "source": [
    "data2['Customer_ID'].duplicated().sum()\n",
    "data2['Transaction_ID'].duplicated().sum()"
   ]
  },
  {
   "cell_type": "code",
   "execution_count": 51,
   "metadata": {},
   "outputs": [
    {
     "data": {
      "text/html": [
       "<div>\n",
       "<style scoped>\n",
       "    .dataframe tbody tr th:only-of-type {\n",
       "        vertical-align: middle;\n",
       "    }\n",
       "\n",
       "    .dataframe tbody tr th {\n",
       "        vertical-align: top;\n",
       "    }\n",
       "\n",
       "    .dataframe thead th {\n",
       "        text-align: right;\n",
       "    }\n",
       "</style>\n",
       "<table border=\"1\" class=\"dataframe\">\n",
       "  <thead>\n",
       "    <tr style=\"text-align: right;\">\n",
       "      <th></th>\n",
       "      <th>Customer_ID</th>\n",
       "      <th>Transaction_ID</th>\n",
       "      <th>Transaction_Date</th>\n",
       "      <th>Transaction_Amount</th>\n",
       "      <th>Merchant_Name</th>\n",
       "      <th>Transaction_Type</th>\n",
       "    </tr>\n",
       "  </thead>\n",
       "  <tbody>\n",
       "    <tr>\n",
       "      <th>512</th>\n",
       "      <td>CUST22922</td>\n",
       "      <td>TXN123954</td>\n",
       "      <td>2025-06-19</td>\n",
       "      <td>658.62</td>\n",
       "      <td>Walmart</td>\n",
       "      <td>POS</td>\n",
       "    </tr>\n",
       "    <tr>\n",
       "      <th>34264</th>\n",
       "      <td>CUST22922</td>\n",
       "      <td>TXN123954</td>\n",
       "      <td>2025-06-19</td>\n",
       "      <td>658.62</td>\n",
       "      <td>Walmart</td>\n",
       "      <td>POS</td>\n",
       "    </tr>\n",
       "  </tbody>\n",
       "</table>\n",
       "</div>"
      ],
      "text/plain": [
       "      Customer_ID Transaction_ID Transaction_Date Transaction_Amount  \\\n",
       "512     CUST22922      TXN123954       2025-06-19             658.62   \n",
       "34264   CUST22922      TXN123954       2025-06-19             658.62   \n",
       "\n",
       "      Merchant_Name Transaction_Type  \n",
       "512         Walmart              POS  \n",
       "34264       Walmart              POS  "
      ]
     },
     "execution_count": 51,
     "metadata": {},
     "output_type": "execute_result"
    }
   ],
   "source": [
    "## Transaction Id has duplicates across rows\n",
    "data2[data2['Transaction_ID'] == 'TXN123954']"
   ]
  },
  {
   "cell_type": "code",
   "execution_count": 52,
   "metadata": {},
   "outputs": [
    {
     "data": {
      "text/html": [
       "<div>\n",
       "<style scoped>\n",
       "    .dataframe tbody tr th:only-of-type {\n",
       "        vertical-align: middle;\n",
       "    }\n",
       "\n",
       "    .dataframe tbody tr th {\n",
       "        vertical-align: top;\n",
       "    }\n",
       "\n",
       "    .dataframe thead th {\n",
       "        text-align: right;\n",
       "    }\n",
       "</style>\n",
       "<table border=\"1\" class=\"dataframe\">\n",
       "  <thead>\n",
       "    <tr style=\"text-align: right;\">\n",
       "      <th></th>\n",
       "      <th>Customer_ID</th>\n",
       "      <th>Transaction_ID</th>\n",
       "      <th>Transaction_Date</th>\n",
       "      <th>Transaction_Amount</th>\n",
       "      <th>Merchant_Name</th>\n",
       "      <th>Transaction_Type</th>\n",
       "    </tr>\n",
       "  </thead>\n",
       "  <tbody>\n",
       "    <tr>\n",
       "      <th>8163</th>\n",
       "      <td>CUST10269</td>\n",
       "      <td>TXN110199</td>\n",
       "      <td>2025-06-28</td>\n",
       "      <td>467.65</td>\n",
       "      <td>Netflix</td>\n",
       "      <td>Withdrawal</td>\n",
       "    </tr>\n",
       "    <tr>\n",
       "      <th>8548</th>\n",
       "      <td>CUST10269</td>\n",
       "      <td>TXN129349</td>\n",
       "      <td>2025-06-14</td>\n",
       "      <td>681.31</td>\n",
       "      <td>Target</td>\n",
       "      <td>Transfer</td>\n",
       "    </tr>\n",
       "    <tr>\n",
       "      <th>14727</th>\n",
       "      <td>CUST10269</td>\n",
       "      <td>TXN113982</td>\n",
       "      <td>2025-06-26</td>\n",
       "      <td>775.01</td>\n",
       "      <td>Apple</td>\n",
       "      <td>POS</td>\n",
       "    </tr>\n",
       "    <tr>\n",
       "      <th>33842</th>\n",
       "      <td>CUST10269</td>\n",
       "      <td>TXN124024</td>\n",
       "      <td>2025-06-28</td>\n",
       "      <td>162.75</td>\n",
       "      <td>Unknown</td>\n",
       "      <td>Transfer</td>\n",
       "    </tr>\n",
       "    <tr>\n",
       "      <th>34498</th>\n",
       "      <td>CUST10269</td>\n",
       "      <td>TXN115942</td>\n",
       "      <td>2025-06-16</td>\n",
       "      <td>90.07</td>\n",
       "      <td>Target</td>\n",
       "      <td>Online</td>\n",
       "    </tr>\n",
       "  </tbody>\n",
       "</table>\n",
       "</div>"
      ],
      "text/plain": [
       "      Customer_ID Transaction_ID Transaction_Date Transaction_Amount  \\\n",
       "8163    CUST10269      TXN110199       2025-06-28             467.65   \n",
       "8548    CUST10269      TXN129349       2025-06-14             681.31   \n",
       "14727   CUST10269      TXN113982       2025-06-26             775.01   \n",
       "33842   CUST10269      TXN124024       2025-06-28             162.75   \n",
       "34498   CUST10269      TXN115942       2025-06-16              90.07   \n",
       "\n",
       "      Merchant_Name Transaction_Type  \n",
       "8163        Netflix       Withdrawal  \n",
       "8548         Target         Transfer  \n",
       "14727         Apple              POS  \n",
       "33842       Unknown         Transfer  \n",
       "34498        Target           Online  "
      ]
     },
     "execution_count": 52,
     "metadata": {},
     "output_type": "execute_result"
    }
   ],
   "source": [
    "## Customer with same ID carried out tranx on diff dates, amount, merchant and transaction type. We cannot remove duplicates for Customer ID\n",
    "\n",
    "data2[data2['Customer_ID'] == 'CUST10269']"
   ]
  },
  {
   "cell_type": "code",
   "execution_count": 53,
   "metadata": {},
   "outputs": [],
   "source": [
    "data2 = data2.drop_duplicates(subset='Transaction_ID', keep='first')"
   ]
  },
  {
   "cell_type": "code",
   "execution_count": 54,
   "metadata": {},
   "outputs": [
    {
     "data": {
      "text/plain": [
       "0"
      ]
     },
     "execution_count": 54,
     "metadata": {},
     "output_type": "execute_result"
    }
   ],
   "source": [
    "data2['Transaction_ID'].duplicated().sum()"
   ]
  },
  {
   "cell_type": "code",
   "execution_count": 55,
   "metadata": {},
   "outputs": [
    {
     "data": {
      "text/plain": [
       "Customer_ID           0\n",
       "Transaction_ID        0\n",
       "Transaction_Date      0\n",
       "Transaction_Amount    0\n",
       "Merchant_Name         0\n",
       "Transaction_Type      0\n",
       "dtype: int64"
      ]
     },
     "execution_count": 55,
     "metadata": {},
     "output_type": "execute_result"
    }
   ],
   "source": [
    "data2.isna().sum()"
   ]
  },
  {
   "cell_type": "code",
   "execution_count": 56,
   "metadata": {},
   "outputs": [],
   "source": [
    "data2['Transaction_Date'] = pd.to_datetime(data2['Transaction_Date'], errors='coerce')"
   ]
  },
  {
   "cell_type": "code",
   "execution_count": null,
   "metadata": {},
   "outputs": [],
   "source": []
  },
  {
   "cell_type": "markdown",
   "metadata": {},
   "source": [
    "## Merge Both Data"
   ]
  },
  {
   "cell_type": "code",
   "execution_count": 57,
   "metadata": {},
   "outputs": [],
   "source": [
    "df = pd.merge(data2, data1, on='Customer_ID', how='left')"
   ]
  },
  {
   "cell_type": "code",
   "execution_count": 58,
   "metadata": {},
   "outputs": [
    {
     "data": {
      "text/html": [
       "<div>\n",
       "<style scoped>\n",
       "    .dataframe tbody tr th:only-of-type {\n",
       "        vertical-align: middle;\n",
       "    }\n",
       "\n",
       "    .dataframe tbody tr th {\n",
       "        vertical-align: top;\n",
       "    }\n",
       "\n",
       "    .dataframe thead th {\n",
       "        text-align: right;\n",
       "    }\n",
       "</style>\n",
       "<table border=\"1\" class=\"dataframe\">\n",
       "  <thead>\n",
       "    <tr style=\"text-align: right;\">\n",
       "      <th></th>\n",
       "      <th>Customer_ID</th>\n",
       "      <th>Transaction_ID</th>\n",
       "      <th>Transaction_Date</th>\n",
       "      <th>Transaction_Amount</th>\n",
       "      <th>Merchant_Name</th>\n",
       "      <th>Transaction_Type</th>\n",
       "      <th>Full_Name</th>\n",
       "      <th>Age</th>\n",
       "      <th>Gender</th>\n",
       "      <th>Email_Address</th>\n",
       "      <th>Phone_Number</th>\n",
       "      <th>Account_Type</th>\n",
       "      <th>Account_Open_Date</th>\n",
       "      <th>Credit_Score</th>\n",
       "      <th>Income_Level</th>\n",
       "      <th>Income_Unknown</th>\n",
       "    </tr>\n",
       "  </thead>\n",
       "  <tbody>\n",
       "    <tr>\n",
       "      <th>0</th>\n",
       "      <td>CUST26964</td>\n",
       "      <td>TXN115359</td>\n",
       "      <td>2025-06-16</td>\n",
       "      <td>987.19</td>\n",
       "      <td>Apple</td>\n",
       "      <td>Deposit</td>\n",
       "      <td>Shannon Taylor</td>\n",
       "      <td>50.0</td>\n",
       "      <td>Non-Binary</td>\n",
       "      <td>kimberlywhite@hotmail.com</td>\n",
       "      <td>Unknown</td>\n",
       "      <td>Savings</td>\n",
       "      <td>2025-06-21</td>\n",
       "      <td>0.00</td>\n",
       "      <td>88938.0</td>\n",
       "      <td>False</td>\n",
       "    </tr>\n",
       "    <tr>\n",
       "      <th>1</th>\n",
       "      <td>CUST19314</td>\n",
       "      <td>TXN133314</td>\n",
       "      <td>2025-06-18</td>\n",
       "      <td>269.23</td>\n",
       "      <td>Unknown</td>\n",
       "      <td>Transfer</td>\n",
       "      <td>Andrew Diaz</td>\n",
       "      <td>33.0</td>\n",
       "      <td>Non-Binary</td>\n",
       "      <td>kennedybrandon@gmail.com</td>\n",
       "      <td>Unknown</td>\n",
       "      <td>Unknown</td>\n",
       "      <td>2025-06-15</td>\n",
       "      <td>577.83</td>\n",
       "      <td>59798.0</td>\n",
       "      <td>False</td>\n",
       "    </tr>\n",
       "    <tr>\n",
       "      <th>2</th>\n",
       "      <td>CUST23304</td>\n",
       "      <td>TXN129227</td>\n",
       "      <td>2025-06-09</td>\n",
       "      <td>977.8</td>\n",
       "      <td>Walmart</td>\n",
       "      <td>Transfer</td>\n",
       "      <td>Joyce Morgan</td>\n",
       "      <td>51.0</td>\n",
       "      <td>Unknown</td>\n",
       "      <td>michelle54@yahoo.com</td>\n",
       "      <td>Unknown</td>\n",
       "      <td>Unknown</td>\n",
       "      <td>2025-06-20</td>\n",
       "      <td>345.08</td>\n",
       "      <td>78264.0</td>\n",
       "      <td>False</td>\n",
       "    </tr>\n",
       "    <tr>\n",
       "      <th>3</th>\n",
       "      <td>CUST18760</td>\n",
       "      <td>TXN126833</td>\n",
       "      <td>2025-06-12</td>\n",
       "      <td>668.71</td>\n",
       "      <td>Target</td>\n",
       "      <td>POS</td>\n",
       "      <td>Amanda Campbell</td>\n",
       "      <td>49.0</td>\n",
       "      <td>Male</td>\n",
       "      <td>stephensfrank@hotmail.com</td>\n",
       "      <td>Unknown</td>\n",
       "      <td>Personal</td>\n",
       "      <td>2025-06-18</td>\n",
       "      <td>837.20</td>\n",
       "      <td>121625.0</td>\n",
       "      <td>False</td>\n",
       "    </tr>\n",
       "    <tr>\n",
       "      <th>4</th>\n",
       "      <td>CUST18399</td>\n",
       "      <td>TXN106774</td>\n",
       "      <td>2025-06-23</td>\n",
       "      <td>334.51</td>\n",
       "      <td>Unknown</td>\n",
       "      <td>Online</td>\n",
       "      <td>Alexis Gray</td>\n",
       "      <td>49.0</td>\n",
       "      <td>Male</td>\n",
       "      <td>amy04@hotmail.com</td>\n",
       "      <td>Unknown</td>\n",
       "      <td>Personal</td>\n",
       "      <td>2025-06-17</td>\n",
       "      <td>0.00</td>\n",
       "      <td>132211.0</td>\n",
       "      <td>False</td>\n",
       "    </tr>\n",
       "    <tr>\n",
       "      <th>...</th>\n",
       "      <td>...</td>\n",
       "      <td>...</td>\n",
       "      <td>...</td>\n",
       "      <td>...</td>\n",
       "      <td>...</td>\n",
       "      <td>...</td>\n",
       "      <td>...</td>\n",
       "      <td>...</td>\n",
       "      <td>...</td>\n",
       "      <td>...</td>\n",
       "      <td>...</td>\n",
       "      <td>...</td>\n",
       "      <td>...</td>\n",
       "      <td>...</td>\n",
       "      <td>...</td>\n",
       "      <td>...</td>\n",
       "    </tr>\n",
       "    <tr>\n",
       "      <th>33995</th>\n",
       "      <td>CUST16274</td>\n",
       "      <td>TXN121566</td>\n",
       "      <td>2025-06-09</td>\n",
       "      <td>105.55</td>\n",
       "      <td>Target</td>\n",
       "      <td>Online</td>\n",
       "      <td>Mark Cruz</td>\n",
       "      <td>48.0</td>\n",
       "      <td>Unknown</td>\n",
       "      <td>jacob34@hotmail.com</td>\n",
       "      <td>Unknown</td>\n",
       "      <td>Checking</td>\n",
       "      <td>2025-06-25</td>\n",
       "      <td>606.77</td>\n",
       "      <td>144014.0</td>\n",
       "      <td>False</td>\n",
       "    </tr>\n",
       "    <tr>\n",
       "      <th>33996</th>\n",
       "      <td>CUST26747</td>\n",
       "      <td>TXN128235</td>\n",
       "      <td>2025-06-12</td>\n",
       "      <td>600.3</td>\n",
       "      <td>Target</td>\n",
       "      <td>Online</td>\n",
       "      <td>Laura King</td>\n",
       "      <td>28.0</td>\n",
       "      <td>Male</td>\n",
       "      <td>pbarrett@yahoo.com</td>\n",
       "      <td>Unknown</td>\n",
       "      <td>Unknown</td>\n",
       "      <td>2025-06-08</td>\n",
       "      <td>392.64</td>\n",
       "      <td>NaN</td>\n",
       "      <td>True</td>\n",
       "    </tr>\n",
       "    <tr>\n",
       "      <th>33997</th>\n",
       "      <td>CUST24880</td>\n",
       "      <td>TXN126281</td>\n",
       "      <td>2025-06-15</td>\n",
       "      <td>873.46</td>\n",
       "      <td>Netflix</td>\n",
       "      <td>POS</td>\n",
       "      <td>Tammie Castillo</td>\n",
       "      <td>51.0</td>\n",
       "      <td>Female</td>\n",
       "      <td>bgonzalez@smith-russo.com</td>\n",
       "      <td>Unknown</td>\n",
       "      <td>Unknown</td>\n",
       "      <td>2025-06-13</td>\n",
       "      <td>0.00</td>\n",
       "      <td>96779.0</td>\n",
       "      <td>False</td>\n",
       "    </tr>\n",
       "    <tr>\n",
       "      <th>33998</th>\n",
       "      <td>CUST10269</td>\n",
       "      <td>TXN115942</td>\n",
       "      <td>2025-06-16</td>\n",
       "      <td>90.07</td>\n",
       "      <td>Target</td>\n",
       "      <td>Online</td>\n",
       "      <td>Brian Warren</td>\n",
       "      <td>46.0</td>\n",
       "      <td>Unknown</td>\n",
       "      <td>montgomeryalbert@king.org</td>\n",
       "      <td>Unknown</td>\n",
       "      <td>Checking</td>\n",
       "      <td>2025-06-22</td>\n",
       "      <td>0.00</td>\n",
       "      <td>94130.0</td>\n",
       "      <td>False</td>\n",
       "    </tr>\n",
       "    <tr>\n",
       "      <th>33999</th>\n",
       "      <td>CUST14132</td>\n",
       "      <td>TXN119757</td>\n",
       "      <td>2025-06-14</td>\n",
       "      <td>659.85</td>\n",
       "      <td>Walmart</td>\n",
       "      <td>Online</td>\n",
       "      <td>Calvin Coleman</td>\n",
       "      <td>64.0</td>\n",
       "      <td>Unknown</td>\n",
       "      <td>hickskimberly@gmail.com</td>\n",
       "      <td>Unknown</td>\n",
       "      <td>Unknown</td>\n",
       "      <td>2025-06-20</td>\n",
       "      <td>718.05</td>\n",
       "      <td>67597.0</td>\n",
       "      <td>False</td>\n",
       "    </tr>\n",
       "  </tbody>\n",
       "</table>\n",
       "<p>34000 rows × 16 columns</p>\n",
       "</div>"
      ],
      "text/plain": [
       "      Customer_ID Transaction_ID Transaction_Date Transaction_Amount  \\\n",
       "0       CUST26964      TXN115359       2025-06-16             987.19   \n",
       "1       CUST19314      TXN133314       2025-06-18             269.23   \n",
       "2       CUST23304      TXN129227       2025-06-09              977.8   \n",
       "3       CUST18760      TXN126833       2025-06-12             668.71   \n",
       "4       CUST18399      TXN106774       2025-06-23             334.51   \n",
       "...           ...            ...              ...                ...   \n",
       "33995   CUST16274      TXN121566       2025-06-09             105.55   \n",
       "33996   CUST26747      TXN128235       2025-06-12              600.3   \n",
       "33997   CUST24880      TXN126281       2025-06-15             873.46   \n",
       "33998   CUST10269      TXN115942       2025-06-16              90.07   \n",
       "33999   CUST14132      TXN119757       2025-06-14             659.85   \n",
       "\n",
       "      Merchant_Name Transaction_Type        Full_Name   Age      Gender  \\\n",
       "0             Apple          Deposit   Shannon Taylor  50.0  Non-Binary   \n",
       "1           Unknown         Transfer      Andrew Diaz  33.0  Non-Binary   \n",
       "2           Walmart         Transfer     Joyce Morgan  51.0     Unknown   \n",
       "3            Target              POS  Amanda Campbell  49.0        Male   \n",
       "4           Unknown           Online      Alexis Gray  49.0        Male   \n",
       "...             ...              ...              ...   ...         ...   \n",
       "33995        Target           Online        Mark Cruz  48.0     Unknown   \n",
       "33996        Target           Online       Laura King  28.0        Male   \n",
       "33997       Netflix              POS  Tammie Castillo  51.0      Female   \n",
       "33998        Target           Online     Brian Warren  46.0     Unknown   \n",
       "33999       Walmart           Online   Calvin Coleman  64.0     Unknown   \n",
       "\n",
       "                   Email_Address Phone_Number Account_Type Account_Open_Date  \\\n",
       "0      kimberlywhite@hotmail.com      Unknown      Savings        2025-06-21   \n",
       "1       kennedybrandon@gmail.com      Unknown      Unknown        2025-06-15   \n",
       "2           michelle54@yahoo.com      Unknown      Unknown        2025-06-20   \n",
       "3      stephensfrank@hotmail.com      Unknown     Personal        2025-06-18   \n",
       "4              amy04@hotmail.com      Unknown     Personal        2025-06-17   \n",
       "...                          ...          ...          ...               ...   \n",
       "33995        jacob34@hotmail.com      Unknown     Checking        2025-06-25   \n",
       "33996         pbarrett@yahoo.com      Unknown      Unknown        2025-06-08   \n",
       "33997  bgonzalez@smith-russo.com      Unknown      Unknown        2025-06-13   \n",
       "33998  montgomeryalbert@king.org      Unknown     Checking        2025-06-22   \n",
       "33999    hickskimberly@gmail.com      Unknown      Unknown        2025-06-20   \n",
       "\n",
       "       Credit_Score  Income_Level  Income_Unknown  \n",
       "0              0.00       88938.0           False  \n",
       "1            577.83       59798.0           False  \n",
       "2            345.08       78264.0           False  \n",
       "3            837.20      121625.0           False  \n",
       "4              0.00      132211.0           False  \n",
       "...             ...           ...             ...  \n",
       "33995        606.77      144014.0           False  \n",
       "33996        392.64           NaN            True  \n",
       "33997          0.00       96779.0           False  \n",
       "33998          0.00       94130.0           False  \n",
       "33999        718.05       67597.0           False  \n",
       "\n",
       "[34000 rows x 16 columns]"
      ]
     },
     "execution_count": 58,
     "metadata": {},
     "output_type": "execute_result"
    }
   ],
   "source": [
    "df"
   ]
  },
  {
   "cell_type": "code",
   "execution_count": 59,
   "metadata": {},
   "outputs": [
    {
     "data": {
      "text/plain": [
       "Customer_ID              0\n",
       "Transaction_ID           0\n",
       "Transaction_Date         0\n",
       "Transaction_Amount       0\n",
       "Merchant_Name            0\n",
       "Transaction_Type         0\n",
       "Full_Name                0\n",
       "Age                      0\n",
       "Gender                   0\n",
       "Email_Address            0\n",
       "Phone_Number             0\n",
       "Account_Type             0\n",
       "Account_Open_Date        0\n",
       "Credit_Score             0\n",
       "Income_Level          3471\n",
       "Income_Unknown           0\n",
       "dtype: int64"
      ]
     },
     "execution_count": 59,
     "metadata": {},
     "output_type": "execute_result"
    }
   ],
   "source": [
    "df.isna().sum()"
   ]
  },
  {
   "cell_type": "code",
   "execution_count": 61,
   "metadata": {},
   "outputs": [],
   "source": [
    "df.to_excel('Cleaned_Financial_Record.xlsx', index=False)"
   ]
  },
  {
   "cell_type": "code",
   "execution_count": null,
   "metadata": {},
   "outputs": [],
   "source": []
  }
 ],
 "metadata": {
  "kernelspec": {
   "display_name": "Python 3 (ipykernel)",
   "language": "python",
   "name": "python3"
  },
  "language_info": {
   "codemirror_mode": {
    "name": "ipython",
    "version": 3
   },
   "file_extension": ".py",
   "mimetype": "text/x-python",
   "name": "python",
   "nbconvert_exporter": "python",
   "pygments_lexer": "ipython3",
   "version": "3.11.0"
  }
 },
 "nbformat": 4,
 "nbformat_minor": 4
}
